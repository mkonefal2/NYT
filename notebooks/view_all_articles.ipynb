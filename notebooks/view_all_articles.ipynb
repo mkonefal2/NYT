{
 "cells": [
  {
   "cell_type": "code",
   "execution_count": 15,
   "metadata": {},
   "outputs": [
    {
     "name": "stdout",
     "output_type": "stream",
     "text": [
      "   count_star()\n",
      "0          4268\n"
     ]
    }
   ],
   "source": [
    "\n",
    "import duckdb\n",
    "import pandas as pd\n",
    "import os\n",
    "\n",
    "# Pełna ścieżka do pliku bazy danych\n",
    "db_path = os.path.abspath('C:\\\\Projekty\\\\NYT\\\\data\\\\nyt_articles.db')\n",
    "\n",
    "# Połącz z bazą danych DuckDB\n",
    "con = duckdb.connect(database=db_path)\n",
    "\n",
    "# Pobierz wszystkie artykuły które zawierają 2024-03 w kolumnie 'pub_date'\n",
    "# all_articles_df = con.execute(\"SELECT * FROM articles WHERE pub_date LIKE '%2023-%'\").fetch_df()\n",
    "# Count all articles\n",
    "all_articles_df_count = con.execute(\"SELECT COUNT(*) FROM articles WHERE pub_date LIKE '%2023-%'\").fetch_df()\n",
    "print(all_articles_df_count)\n",
    "\n",
    "con.close()\n",
    "# Wyświetl pierwsze 50 wierszy DataFrame\n",
    "#all_articles_df.head(50)\n",
    "\n"
   ]
  }
 ],
 "metadata": {
  "kernelspec": {
   "display_name": "Python 3",
   "language": "python",
   "name": "python3"
  },
  "language_info": {
   "codemirror_mode": {
    "name": "ipython",
    "version": 3
   },
   "file_extension": ".py",
   "mimetype": "text/x-python",
   "name": "python",
   "nbconvert_exporter": "python",
   "pygments_lexer": "ipython3",
   "version": "3.11.9"
  }
 },
 "nbformat": 4,
 "nbformat_minor": 2
}
