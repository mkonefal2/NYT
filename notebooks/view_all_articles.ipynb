{
 "cells": [
  {
   "cell_type": "code",
   "execution_count": 18,
   "metadata": {},
   "outputs": [
    {
     "data": {
      "text/html": [
       "<div>\n",
       "<style scoped>\n",
       "    .dataframe tbody tr th:only-of-type {\n",
       "        vertical-align: middle;\n",
       "    }\n",
       "\n",
       "    .dataframe tbody tr th {\n",
       "        vertical-align: top;\n",
       "    }\n",
       "\n",
       "    .dataframe thead th {\n",
       "        text-align: right;\n",
       "    }\n",
       "</style>\n",
       "<table border=\"1\" class=\"dataframe\">\n",
       "  <thead>\n",
       "    <tr style=\"text-align: right;\">\n",
       "      <th></th>\n",
       "      <th>headline</th>\n",
       "    </tr>\n",
       "  </thead>\n",
       "  <tbody>\n",
       "    <tr>\n",
       "      <th>0</th>\n",
       "      <td>What Happened at the Trump Trial on Tuesday</td>\n",
       "    </tr>\n",
       "    <tr>\n",
       "      <th>1</th>\n",
       "      <td>Even Celebrities Don’t Know How to Ask Their F...</td>\n",
       "    </tr>\n",
       "    <tr>\n",
       "      <th>2</th>\n",
       "      <td>Law Firm Defending Trump Seeks to Withdraw Fro...</td>\n",
       "    </tr>\n",
       "    <tr>\n",
       "      <th>3</th>\n",
       "      <td>Transcript: Ezra Klein Interviews Hannah Ritchie</td>\n",
       "    </tr>\n",
       "    <tr>\n",
       "      <th>4</th>\n",
       "      <td>Albuquerque School’s Staff on Leave After Drag...</td>\n",
       "    </tr>\n",
       "  </tbody>\n",
       "</table>\n",
       "</div>"
      ],
      "text/plain": [
       "                                            headline\n",
       "0        What Happened at the Trump Trial on Tuesday\n",
       "1  Even Celebrities Don’t Know How to Ask Their F...\n",
       "2  Law Firm Defending Trump Seeks to Withdraw Fro...\n",
       "3   Transcript: Ezra Klein Interviews Hannah Ritchie\n",
       "4  Albuquerque School’s Staff on Leave After Drag..."
      ]
     },
     "execution_count": 18,
     "metadata": {},
     "output_type": "execute_result"
    }
   ],
   "source": [
    "\n",
    "import duckdb\n",
    "import pandas as pd\n",
    "import os\n",
    "\n",
    "# Pełna ścieżka do pliku bazy danych\n",
    "db_path = os.path.abspath('../data/nyt_articles.db')\n",
    "\n",
    "# Połącz z bazą danych DuckDB\n",
    "con = duckdb.connect(database=db_path)\n",
    "\n",
    "# Pobierz wszystkie artykuły\n",
    "all_articles_df = con.execute('SELECT headline FROM headline_analysis').df()\n",
    "# Zamknij połączenie z bazą danych\n",
    "con.close()\n",
    "# Wyświetl pierwsze kilka wierszy DataFrame\n",
    "all_articles_df.head()\n"
   ]
  }
 ],
 "metadata": {
  "kernelspec": {
   "display_name": "Python 3",
   "language": "python",
   "name": "python3"
  },
  "language_info": {
   "codemirror_mode": {
    "name": "ipython",
    "version": 3
   },
   "file_extension": ".py",
   "mimetype": "text/x-python",
   "name": "python",
   "nbconvert_exporter": "python",
   "pygments_lexer": "ipython3",
   "version": "3.11.9"
  }
 },
 "nbformat": 4,
 "nbformat_minor": 2
}
